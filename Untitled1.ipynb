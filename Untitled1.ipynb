{
 "cells": [
  {
   "cell_type": "markdown",
   "metadata": {},
   "source": [
    "# Scikit for KNN"
   ]
  },
  {
   "cell_type": "code",
   "execution_count": 40,
   "metadata": {},
   "outputs": [
    {
     "name": "stdout",
     "output_type": "stream",
     "text": [
      "Our accuracy:  0.9555555555555556\n",
      "Scikit accuracy:  0.9555555555555556\n"
     ]
    }
   ],
   "source": [
    "import csv\n",
    "# def accuracy(X, Y):\n",
    "#     s = 0\n",
    "#     for i in range(len(X)):\n",
    "#         if X[i] == Y[i]:\n",
    "#             s += 1\n",
    "#     return s / len(X)\n",
    "\n",
    "\n",
    "def euclid(X, Y):\n",
    "    d = 0\n",
    "    for i in range(len(X)):\n",
    "        d += pow(X[i] - Y[i], 2)\n",
    "    return pow(d, 1 / 2)\n",
    "\n",
    "\n",
    "# data = []\n",
    "# labels = []\n",
    "# with open('iris.csv', newline='') as csv_file:\n",
    "#     reader = csv.reader(csv_file, delimiter=',')\n",
    "#     for row in reader:\n",
    "#         data.append(list(map(float, row[:4])))\n",
    "#         labels.append(row[4])\n",
    "# sep = int(0.9 * len(data))\n",
    "# X_train = data[:sep]\n",
    "# y_train =labels[:sep]\n",
    "# X_test = data[sep:]\n",
    "# y_test =labels[sep:]\n",
    "\n",
    "from sklearn.datasets import load_iris\n",
    "iris = load_iris()\n",
    "\n",
    "from sklearn.model_selection import train_test_split\n",
    "X_train, X_test, y_train, y_test = train_test_split(iris.data, iris.target, test_size=0.3)\n",
    "\n",
    "\n",
    "def knn(k=8):\n",
    "    predictions = []\n",
    "    for i in range(len(X_test)):\n",
    "        distances = []\n",
    "        for j in range(len(X_train)):\n",
    "            distances.append([euclid(X_test[i], X_train[j]), j])\n",
    "        distances.sort()\n",
    "        knn = []\n",
    "        for j in range(k):\n",
    "            knn.append(y_train[distances[j][1]])\n",
    "        max_val, max_ind = 0, 0\n",
    "        for x in set(knn):\n",
    "            t = knn.count(x)\n",
    "            if t > max_val:\n",
    "                max_val = t\n",
    "                max_ind = x\n",
    "        predictions.append(max_ind)\n",
    "    return predictions\n",
    "\n",
    "\n",
    "from sklearn.metrics import accuracy_score\n",
    "print('Our accuracy: ', accuracy_score(knn(), y_test))\n",
    "\n",
    "\n",
    "# Compare with Scikit\n",
    "from sklearn.neighbors import KNeighborsClassifier\n",
    "neigh = KNeighborsClassifier(n_neighbors=4, algorithm='brute')\n",
    "neigh.fit(X_train, y_train)\n",
    "predictions = neigh.predict(X_test)\n",
    "print('Scikit accuracy: ', accuracy_score(y_test, predictions))\n",
    "\n"
   ]
  }
 ],
 "metadata": {
  "kernelspec": {
   "display_name": "Python 3",
   "language": "python",
   "name": "python3"
  },
  "language_info": {
   "codemirror_mode": {
    "name": "ipython",
    "version": 3
   },
   "file_extension": ".py",
   "mimetype": "text/x-python",
   "name": "python",
   "nbconvert_exporter": "python",
   "pygments_lexer": "ipython3",
   "version": "3.6.8"
  }
 },
 "nbformat": 4,
 "nbformat_minor": 2
}
