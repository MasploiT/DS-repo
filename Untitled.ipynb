{
 "cells": [
  {
   "cell_type": "markdown",
   "metadata": {},
   "source": [
    "# Neural Network\n"
   ]
  },
  {
   "cell_type": "markdown",
   "metadata": {},
   "source": [
    "## perceptron fro regrition"
   ]
  },
  {
   "cell_type": "code",
   "execution_count": 36,
   "metadata": {},
   "outputs": [
    {
     "name": "stdout",
     "output_type": "stream",
     "text": [
      "[0.941693085558753, 2.015124742700618]\n",
      "0.003622584968193914\n"
     ]
    }
   ],
   "source": [
    "import random\n",
    "def perceptron(data, label, lr=0.01, epoch=100):\n",
    "    cols = len(data[0])\n",
    "    weights = [random.random() for _ in range(cols)]\n",
    "    for i in range(epoch):\n",
    "        for j in range(len(data)):\n",
    "            y_p = 0\n",
    "            for k in range(cols):\n",
    "                y_p += data[j][k] * weights[k]\n",
    "            loss = ((y_p - label[j]) ** 2) / 2\n",
    "            if loss == 0:\n",
    "                return weights\n",
    "            for k in range(cols):\n",
    "                weights[k] -= lr * (y_p - label[j]) * data[j][k]\n",
    "    return weights\n",
    "\n",
    "def predict(test_X, w):\n",
    "    cols = len(test_X[0])\n",
    "    predictions = []\n",
    "    for i in range(len(test_X)):\n",
    "        p = 0\n",
    "        for j in range(cols):\n",
    "            p += test_X[i][j] * w[j]\n",
    "        predictions.append(p)\n",
    "    return predictions\n",
    "\n",
    "data = [[1, 0], [1, 1], [1, 2], [1, 3], [1, 4], [1, 5]]\n",
    "label = [1, 3, 5, 7, 9, 11]\n",
    "w = perceptron(data, label)\n",
    "test_X = [[1, 6], [1, 7], [1, 8]]\n",
    "test_y = [13, 15, 17]\n",
    "pre = predict(test_X, w)\n",
    "loss = 0\n",
    "print(w)\n",
    "for i in range(len(test_X)):\n",
    "    loss += (pre[i] - test_y[i]) ** 2\n",
    "print(loss / 2)"
   ]
  },
  {
   "cell_type": "markdown",
   "metadata": {},
   "source": [
    "## perceptron with scikit"
   ]
  },
  {
   "cell_type": "code",
   "execution_count": null,
   "metadata": {},
   "outputs": [],
   "source": [
    "from sklearn.datasets import load_boston\n",
    "from sklearn.model_selection import train_test_split\n",
    "from sklearn.metrics import mean_squared_error\n",
    "from sklearn import preprocessing\n",
    "\n",
    "boston = load_boston\n"
   ]
  }
 ],
 "metadata": {
  "kernelspec": {
   "display_name": "Python 3",
   "language": "python",
   "name": "python3"
  },
  "language_info": {
   "codemirror_mode": {
    "name": "ipython",
    "version": 3
   },
   "file_extension": ".py",
   "mimetype": "text/x-python",
   "name": "python",
   "nbconvert_exporter": "python",
   "pygments_lexer": "ipython3",
   "version": "3.6.8"
  }
 },
 "nbformat": 4,
 "nbformat_minor": 2
}
